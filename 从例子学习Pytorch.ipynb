{
 "cells": [
  {
   "cell_type": "markdown",
   "metadata": {},
   "source": [
    "# LEARNING PYTORCH WITH EXAMPLES\n",
    "\n",
    "原始文档位置：https://pytorch.org/tutorials/beginner/pytorch_with_examples.html\n",
    "    \n",
    "Author: Justin Johnson\n",
    "\n",
    "目标：通过例子掌握Pytorch的核心功能（n维度张量Tensor和自动求导功能）\n",
    "\n",
    "例子：\n",
    "\n",
    "- 用3阶多项式拟合$y=sin(x)$，所以要训练三个参数\n",
    "- 涉及基于随机数据的梯度下降\n",
    "\n",
    "我的补充：做了点可视化。"
   ]
  },
  {
   "cell_type": "markdown",
   "metadata": {},
   "source": [
    "## Tensor张量\n",
    "\n",
    "### 先热身一下，康康numpy\n",
    "\n",
    "首先我们用np来处理一下这个问题的解法\n",
    "\n",
    "Numpy同样提供了n维度数组，有科学计算相关函数，但是不涉及计算图（computation graphs），也不了解梯度和深度学习，但是对于三阶多项式我们可以手动实现前向和反向传播。\n",
    "\n",
    "这里推导一下：\n",
    "\n",
    "$$\n",
    "\\hat y = a+bx+cx^2+dx^3,L(y,\\hat y) = \\lVert y-\\hat y\\rVert_2^2\n",
    "$$\n",
    "\n",
    "$$\n",
    "\\frac{\\partial L}{\\partial a} =  \\frac{\\partial L}{\\partial \\hat y} \\times \\frac{\\hat y}{\\partial a}\n",
    "$$"
   ]
  },
  {
   "cell_type": "code",
   "execution_count": 1,
   "metadata": {},
   "outputs": [
    {
     "name": "stdout",
     "output_type": "stream",
     "text": [
      "迭代第  99轮, 损失函数为965.462\n",
      "迭代第 199轮, 损失函数为666.340\n",
      "迭代第 299轮, 损失函数为461.254\n",
      "迭代第 399轮, 损失函数为320.481\n",
      "迭代第 499轮, 损失函数为223.744\n",
      "迭代第 599轮, 损失函数为157.192\n",
      "迭代第 699轮, 损失函数为111.356\n",
      "迭代第 799轮, 损失函数为 79.753\n",
      "迭代第 899轮, 损失函数为 57.940\n",
      "迭代第 999轮, 损失函数为 42.868\n",
      "迭代第1099轮, 损失函数为 32.443\n",
      "迭代第1199轮, 损失函数为 25.226\n",
      "迭代第1299轮, 损失函数为 20.223\n",
      "迭代第1399轮, 损失函数为 16.753\n",
      "迭代第1499轮, 损失函数为 14.343\n",
      "迭代第1599轮, 损失函数为 12.668\n",
      "迭代第1699轮, 损失函数为 11.503\n",
      "迭代第1799轮, 损失函数为 10.692\n",
      "迭代第1899轮, 损失函数为 10.127\n",
      "迭代第1999轮, 损失函数为  9.732\n",
      "结果Result: y = 0.029051463916955143 + 0.8443705863612246 x + -0.0050118609441209775 x^2 + -0.09157082774438041 x^3\n"
     ]
    }
   ],
   "source": [
    "import numpy as np\n",
    "import math\n",
    "\n",
    "# Create random input and output data\n",
    "x = np.linspace(-math.pi, math.pi, 2000)#一个周期内的\n",
    "y = np.sin(x)#对应理论y\n",
    "\n",
    "# Randomly initialize weights\n",
    "np.random.seed(2333)#设置个种子\n",
    "a = np.random.randn()\n",
    "b = np.random.randn()\n",
    "c = np.random.randn()\n",
    "d = np.random.randn()\n",
    "\n",
    "learning_rate = 1e-6#学习率\n",
    "for t in range(2000):\n",
    "    # Forward pass: compute predicted y\n",
    "    # y = a + b x + c x^2 + d x^3\n",
    "    y_pred = a + b * x + c * x ** 2 + d * x ** 3\n",
    "\n",
    "    # Compute and print loss\n",
    "    loss = np.square(y_pred - y).sum()\n",
    "    if t % 100 == 99:\n",
    "        print(f'迭代第{t:4d}轮, 损失函数为{loss:7.3f}')\n",
    "\n",
    "    # Backprop to compute gradients of a, b, c, d with respect to loss\n",
    "    grad_y_pred = 2.0 * (y_pred - y) #损失对y求导\n",
    "    grad_a = grad_y_pred.sum() #y再对参数求导\n",
    "    grad_b = (grad_y_pred * x).sum()\n",
    "    grad_c = (grad_y_pred * x ** 2).sum()\n",
    "    grad_d = (grad_y_pred * x ** 3).sum()\n",
    "\n",
    "    # Update weights 梯度下降更新\n",
    "    a -= learning_rate * grad_a\n",
    "    b -= learning_rate * grad_b\n",
    "    c -= learning_rate * grad_c\n",
    "    d -= learning_rate * grad_d\n",
    "\n",
    "print(f'结果Result: y = {a} + {b} x + {c} x^2 + {d} x^3')"
   ]
  },
  {
   "cell_type": "code",
   "execution_count": 2,
   "metadata": {},
   "outputs": [
    {
     "data": {
      "text/plain": [
       "<matplotlib.legend.Legend at 0x2130bcd2eb0>"
      ]
     },
     "execution_count": 2,
     "metadata": {},
     "output_type": "execute_result"
    },
    {
     "data": {
      "image/png": "[encoded data removed]",
      "text/plain": [
       "<Figure size 432x288 with 1 Axes>"
      ]
     },
     "metadata": {
      "needs_background": "light"
     },
     "output_type": "display_data"
    }
   ],
   "source": [
    "import matplotlib.pyplot as plt\n",
    "plt.plot(x,y,label='true')\n",
    "plt.plot(x,y_pred,label='pred')\n",
    "plt.legend()"
   ]
  },
  {
   "cell_type": "markdown",
   "metadata": {},
   "source": [
    "### 换成张量"
   ]
  },
  {
   "cell_type": "code",
   "execution_count": 3,
   "metadata": {},
   "outputs": [
    {
     "name": "stdout",
     "output_type": "stream",
     "text": [
      "迭代第  99轮, 损失函数为158.029\n",
      "迭代第 199轮, 损失函数为107.563\n",
      "迭代第 299轮, 损失函数为 74.170\n",
      "迭代第 399轮, 损失函数为 52.073\n",
      "迭代第 499轮, 损失函数为 37.449\n",
      "迭代第 599轮, 损失函数为 27.770\n",
      "迭代第 699轮, 损失函数为 21.364\n",
      "迭代第 799轮, 损失函数为 17.124\n",
      "迭代第 899轮, 损失函数为 14.318\n",
      "迭代第 999轮, 损失函数为 12.459\n",
      "迭代第1099轮, 损失函数为 11.229\n",
      "迭代第1199轮, 损失函数为 10.415\n",
      "迭代第1299轮, 损失函数为  9.875\n",
      "迭代第1399轮, 损失函数为  9.518\n",
      "迭代第1499轮, 损失函数为  9.282\n",
      "迭代第1599轮, 损失函数为  9.125\n",
      "迭代第1699轮, 损失函数为  9.021\n",
      "迭代第1799轮, 损失函数为  8.952\n",
      "迭代第1899轮, 损失函数为  8.907\n",
      "迭代第1999轮, 损失函数为  8.877\n",
      "结果Result: y = -0.0016615603817626834 + 0.8494040369987488 x + 0.00028664592537097633 x^2 + -0.09228679537773132 x^3\n"
     ]
    }
   ],
   "source": [
    "import torch\n",
    "import math\n",
    "\n",
    "\n",
    "dtype = torch.float #需要指定一下数据类型\n",
    "#device = torch.device(\"cpu\")\n",
    "device = torch.device(\"cuda:0\") # GPU版本\n",
    "\n",
    "# Create random input and output data\n",
    "x = torch.linspace(-math.pi, math.pi, 2000, device=device, dtype=dtype)\n",
    "y = torch.sin(x)\n",
    "\n",
    "# Randomly initialize weights\n",
    "torch.manual_seed(233) #这是torch的随机数（全局一致）\n",
    "a = torch.randn((), device=device, dtype=dtype)\n",
    "b = torch.randn((), device=device, dtype=dtype)\n",
    "c = torch.randn((), device=device, dtype=dtype)\n",
    "d = torch.randn((), device=device, dtype=dtype)\n",
    "\n",
    "learning_rate = 1e-6\n",
    "for t in range(2000):\n",
    "    # Forward pass: compute predicted y\n",
    "    y_pred = a + b * x + c * x ** 2 + d * x ** 3\n",
    "\n",
    "    # Compute and print loss\n",
    "    loss = (y_pred - y).pow(2).sum().item()#要用item才能得到标量数值\n",
    "    if t % 100 == 99:\n",
    "        print(f'迭代第{t:4d}轮, 损失函数为{loss:7.3f}')\n",
    "\n",
    "    # Backprop to compute gradients of a, b, c, d with respect to loss\n",
    "    grad_y_pred = 2.0 * (y_pred - y)\n",
    "    grad_a = grad_y_pred.sum()\n",
    "    grad_b = (grad_y_pred * x).sum()\n",
    "    grad_c = (grad_y_pred * x ** 2).sum()\n",
    "    grad_d = (grad_y_pred * x ** 3).sum()\n",
    "\n",
    "    # Update weights using gradient descent\n",
    "    a -= learning_rate * grad_a\n",
    "    b -= learning_rate * grad_b\n",
    "    c -= learning_rate * grad_c\n",
    "    d -= learning_rate * grad_d\n",
    "\n",
    "\n",
    "print(f'结果Result: y = {a.item()} + {b.item()} x + {c.item()} x^2 + {d.item()} x^3')"
   ]
  },
  {
   "cell_type": "code",
   "execution_count": 4,
   "metadata": {},
   "outputs": [
    {
     "data": {
      "text/plain": [
       "<matplotlib.legend.Legend at 0x2130fefe340>"
      ]
     },
     "execution_count": 4,
     "metadata": {},
     "output_type": "execute_result"
    },
    {
     "data": {
      "image/png": "[encoded data removed]",
      "text/plain": [
       "<Figure size 432x288 with 1 Axes>"
      ]
     },
     "metadata": {
      "needs_background": "light"
     },
     "output_type": "display_data"
    }
   ],
   "source": [
    "import matplotlib.pyplot as plt\n",
    "plt.plot(x.cpu().numpy(),y.cpu().numpy(),label='true')#先转换到cpu，然后再转换到numpy才可以做一般的可视化\n",
    "plt.plot(x.cpu().numpy(),y_pred.cpu().numpy(),label='pred')\n",
    "plt.legend()"
   ]
  },
  {
   "cell_type": "markdown",
   "metadata": {},
   "source": [
    "## 自动求梯度Autograd\n",
    "\n",
    "### 张量的自动求梯度\n",
    "\n",
    "上面是手搓的方式，但是如果层数多了会复杂，所以可以用自动微分工具。前向传播时候，会定义一个计算图computational graph，节点是张量，边是函数，然后对图进行反向传播。\n",
    "\n",
    "这听起来复杂，但是实操只需要设置`requires_grad=True`可以用`.grad`提取对应的梯度（也是张量）\n",
    "\n",
    "首先简单的用grad代替手搓"
   ]
  },
  {
   "cell_type": "code",
   "execution_count": 5,
   "metadata": {},
   "outputs": [
    {
     "name": "stdout",
     "output_type": "stream",
     "text": [
      "迭代第  99轮, 损失函数为158.029\n",
      "迭代第 199轮, 损失函数为107.563\n",
      "迭代第 299轮, 损失函数为 74.170\n",
      "迭代第 399轮, 损失函数为 52.073\n",
      "迭代第 499轮, 损失函数为 37.449\n",
      "迭代第 599轮, 损失函数为 27.770\n",
      "迭代第 699轮, 损失函数为 21.364\n",
      "迭代第 799轮, 损失函数为 17.124\n",
      "迭代第 899轮, 损失函数为 14.318\n",
      "迭代第 999轮, 损失函数为 12.459\n",
      "迭代第1099轮, 损失函数为 11.229\n",
      "迭代第1199轮, 损失函数为 10.415\n",
      "迭代第1299轮, 损失函数为  9.875\n",
      "迭代第1399轮, 损失函数为  9.518\n",
      "迭代第1499轮, 损失函数为  9.282\n",
      "迭代第1599轮, 损失函数为  9.125\n",
      "迭代第1699轮, 损失函数为  9.021\n",
      "迭代第1799轮, 损失函数为  8.952\n",
      "迭代第1899轮, 损失函数为  8.907\n",
      "迭代第1999轮, 损失函数为  8.877\n",
      "Result: y = -0.0016615603817626834 + 0.8494040369987488 x + 0.00028664592537097633 x^2 + -0.09228679537773132 x^3\n"
     ]
    }
   ],
   "source": [
    "torch.manual_seed(233) #重新调用一次这个函数，那么后续随机又从这个开始，否则在一组种子下的结果也是不一样的\n",
    "a = torch.randn((), device=device, dtype=dtype, requires_grad=True)\n",
    "b = torch.randn((), device=device, dtype=dtype, requires_grad=True)\n",
    "c = torch.randn((), device=device, dtype=dtype, requires_grad=True)\n",
    "d = torch.randn((), device=device, dtype=dtype, requires_grad=True)\n",
    "\n",
    "learning_rate = 1e-6\n",
    "for t in range(2000):\n",
    "    # Forward pass: compute predicted y using operations on Tensors.\n",
    "    y_pred = a + b * x + c * x ** 2 + d * x ** 3\n",
    "\n",
    "    # Compute and print loss using operations on Tensors.\n",
    "    # Now loss is a Tensor of shape (1,)\n",
    "    # loss.item() gets the scalar value held in the loss.\n",
    "    loss = (y_pred - y).pow(2).sum()\n",
    "    if t % 100 == 99:\n",
    "        print(f'迭代第{t:4d}轮, 损失函数为{loss:7.3f}')\n",
    "\n",
    "    # Use autograd to compute the backward pass. This call will compute the\n",
    "    # gradient of loss with respect to all Tensors with requires_grad=True.\n",
    "    # After this call a.grad, b.grad. c.grad and d.grad will be Tensors holding\n",
    "    # the gradient of the loss with respect to a, b, c, d respectively.\n",
    "    #直接一个函数就能反向传播，所有可求梯度的都会反向传播\n",
    "    loss.backward()\n",
    "\n",
    "    # Manually update weights using gradient descent. Wrap in torch.no_grad()\n",
    "    # because weights have requires_grad=True, but we don't need to track this\n",
    "    # in autograd.权重的requires_grad参数为真但是我们这里只是更新，不需要跟踪记录梯度\n",
    "    with torch.no_grad():\n",
    "        a -= learning_rate * a.grad\n",
    "        b -= learning_rate * b.grad\n",
    "        c -= learning_rate * c.grad\n",
    "        d -= learning_rate * d.grad\n",
    "\n",
    "        # Manually zero the gradients after updating weights\n",
    "        # 手动清除梯度有点离谱，非主流操作\n",
    "        a.grad = None\n",
    "        b.grad = None\n",
    "        c.grad = None\n",
    "        d.grad = None\n",
    "\n",
    "print(f'Result: y = {a.item()} + {b.item()} x + {c.item()} x^2 + {d.item()} x^3')"
   ]
  },
  {
   "cell_type": "markdown",
   "metadata": {},
   "source": [
    "## 进阶--构建一个新的autograd函数\n",
    "\n",
    "这里的公式进行了更改，换成了$y=a+bP_3(c+dx)$，其中$P_3(x)=0.5(5x^3-3x)$为三阶勒让德多项式。"
   ]
  },
  {
   "cell_type": "code",
   "execution_count": 11,
   "metadata": {},
   "outputs": [
    {
     "name": "stdout",
     "output_type": "stream",
     "text": [
      "迭代第  99轮, 损失函数为209.958\n",
      "迭代第 199轮, 损失函数为144.660\n",
      "迭代第 299轮, 损失函数为100.702\n",
      "迭代第 399轮, 损失函数为 71.035\n",
      "迭代第 499轮, 损失函数为 50.979\n",
      "迭代第 599轮, 损失函数为 37.403\n",
      "迭代第 699轮, 损失函数为 28.207\n",
      "迭代第 799轮, 损失函数为 21.973\n",
      "迭代第 899轮, 损失函数为 17.746\n",
      "迭代第 999轮, 损失函数为 14.878\n",
      "迭代第1099轮, 损失函数为 12.932\n",
      "迭代第1199轮, 损失函数为 11.611\n",
      "迭代第1299轮, 损失函数为 10.714\n",
      "迭代第1399轮, 损失函数为 10.105\n",
      "迭代第1499轮, 损失函数为  9.692\n",
      "迭代第1599轮, 损失函数为  9.411\n",
      "迭代第1699轮, 损失函数为  9.221\n",
      "迭代第1799轮, 损失函数为  9.091\n",
      "迭代第1899轮, 损失函数为  9.003\n",
      "迭代第1999轮, 损失函数为  8.944\n",
      "Result: y = -0.0000 + -2.2085 * P3(0.0000 + 0.2555 x)\n"
     ]
    }
   ],
   "source": [
    "class LegendrePolynomial3(torch.autograd.Function):\n",
    "    \"\"\"\n",
    "    We can implement our own custom autograd Functions by subclassing\n",
    "    torch.autograd.Function and implementing the forward and backward passes\n",
    "    which operate on Tensors.\n",
    "    可以继承torch.autograd.Function来实现我们自己的子类\n",
    "    \"\"\"\n",
    "\n",
    "    @staticmethod\n",
    "    def forward(ctx, input):\n",
    "        \"\"\"\n",
    "        In the forward pass we receive a Tensor containing the input and return\n",
    "        a Tensor containing the output. ctx is a context object that can be used\n",
    "        to stash information for backward computation. You can cache arbitrary\n",
    "        objects for use in the backward pass using the ctx.save_for_backward method.\n",
    "        前向传播时，我们得到一个输入，并给出前向传播的输出\n",
    "        ctx是一个内容对象，可以用于存放反向传播的计算信息\n",
    "        你可以用ctx.save_for_backward存储任意的对象\n",
    "        \"\"\"\n",
    "        ctx.save_for_backward(input)#存下输入\n",
    "        return 0.5 * (5 * input ** 3 - 3 * input)#前向计算\n",
    "\n",
    "    @staticmethod\n",
    "    def backward(ctx, grad_output):\n",
    "        \"\"\"\n",
    "        In the backward pass we receive a Tensor containing the gradient of the loss\n",
    "        with respect to the output, and we need to compute the gradient of the loss\n",
    "        with respect to the input.\n",
    "        在反向传播时，我们收到一个损失对于输出的梯度，据此计算损失对于输入的梯度\n",
    "        \"\"\"\n",
    "        input, = ctx.saved_tensors#提取原始输入\n",
    "        return grad_output * 1.5 * (5 * input ** 2 - 1)#按照公式解析解计算反向传播\n",
    "\n",
    "\n",
    "\n",
    "# Create Tensors to hold input and outputs.\n",
    "# By default, requires_grad=False, which indicates that we do not need to\n",
    "# compute gradients with respect to these Tensors during the backward pass.\n",
    "#创建输入数据和目标y，默认的创建张量不含梯度\n",
    "x = torch.linspace(-math.pi, math.pi, 2000, device=device, dtype=dtype)\n",
    "y = torch.sin(x)\n",
    "\n",
    "# Create random Tensors for weights. For this example, we need\n",
    "# 4 weights: y = a + b * P3(c + d * x), these weights need to be initialized\n",
    "# not too far from the correct result to ensure convergence.\n",
    "# Setting requires_grad=True indicates that we want to compute gradients with\n",
    "# respect to these Tensors during the backward pass.\n",
    "# 创建向量，和之前的区别在于参数是非随机初始化的\n",
    "# 这里的创建函数是创建()形状的Tensor，采用统一数值填充\n",
    "a = torch.full((), 0.0, device=device, dtype=dtype, requires_grad=True)\n",
    "b = torch.full((), -1.0, device=device, dtype=dtype, requires_grad=True)\n",
    "c = torch.full((), 0.0, device=device, dtype=dtype, requires_grad=True)\n",
    "d = torch.full((), 0.3, device=device, dtype=dtype, requires_grad=True)\n",
    "\n",
    "learning_rate = 5e-6 #学习率变了不知道为什么\n",
    "for t in range(2000):\n",
    "    # To apply our Function, we use Function.apply method. We alias this as 'P3'.\n",
    "    # 对于自定义的torch.autograd.Function子类，我们需要获取他的apply方法来使用\n",
    "    P3 = LegendrePolynomial3.apply\n",
    "\n",
    "    # Forward pass: compute predicted y using operations; we compute\n",
    "    # P3 using our custom autograd operation.\n",
    "    #用我们自己写好的进行前向传播\n",
    "    y_pred = a + b * P3(c + d * x)\n",
    "\n",
    "    # Compute and print loss\n",
    "    #计算损失\n",
    "    loss = (y_pred - y).pow(2).sum()\n",
    "    if t % 100 == 99:\n",
    "        print(f'迭代第{t:4d}轮, 损失函数为{loss:7.3f}')\n",
    "\n",
    "    # Use autograd to compute the backward pass.\n",
    "    #还是直接反向传播\n",
    "    loss.backward()\n",
    "\n",
    "    # Update weights using gradient descent\n",
    "    #更新权重\n",
    "    with torch.no_grad():\n",
    "        a -= learning_rate * a.grad\n",
    "        b -= learning_rate * b.grad\n",
    "        c -= learning_rate * c.grad\n",
    "        d -= learning_rate * d.grad\n",
    "\n",
    "        # Manually zero the gradients after updating weights\n",
    "        # 同样手动清除梯度\n",
    "        a.grad = None\n",
    "        b.grad = None\n",
    "        c.grad = None\n",
    "        d.grad = None\n",
    "\n",
    "print(f'Result: y = {a.item()} + {b.item()} * P3({c.item()} + {d.item()} x)')"
   ]
  },
  {
   "cell_type": "code",
   "execution_count": 8,
   "metadata": {},
   "outputs": [
    {
     "data": {
      "text/plain": [
       "<matplotlib.legend.Legend at 0x21320a750a0>"
      ]
     },
     "execution_count": 8,
     "metadata": {},
     "output_type": "execute_result"
    },
    {
     "data": {
      "image/png": "[encoded data removed]",
      "text/plain": [
       "<Figure size 432x288 with 1 Axes>"
      ]
     },
     "metadata": {
      "needs_background": "light"
     },
     "output_type": "display_data"
    }
   ],
   "source": [
    "import matplotlib.pyplot as plt\n",
    "plt.plot(x.cpu().numpy(),y.cpu().numpy(),label='true')#先转换到cpu，然后再转换到numpy才可以做一般的可视化\n",
    "plt.plot(x.cpu().numpy(),y_pred.detach().cpu().numpy(),label='pred')\n",
    "#由于这里y_pred涉及反向传播，所以是要先detach()接触和计算图的联系\n",
    "plt.legend()"
   ]
  },
  {
   "cell_type": "markdown",
   "metadata": {},
   "source": [
    "## 基于nn的方法\n",
    "\n",
    "在我们组织深度学习神经网络的时候，往往会安排层layers，这些层部分会包含可学习的参数，可被优化。\n",
    "\n",
    "在Pytorch中nn起到这个作用，提供一系列模块modules的定义，可以大致相当于神经网络的层，一个模块接受输入张量并计算输出张量，同时会存储中间内部状态比如可学习参数，也定义了一些常见的损失函数。\n",
    "\n",
    "下面我们实现一个多项式网络的nn模块。"
   ]
  },
  {
   "cell_type": "code",
   "execution_count": 15,
   "metadata": {},
   "outputs": [
    {
     "name": "stdout",
     "output_type": "stream",
     "text": [
      "torch.Size([5])\n"
     ]
    },
    {
     "data": {
      "text/plain": [
       "tensor([-3.1416, -1.5708,  0.0000,  1.5708,  3.1416])"
      ]
     },
     "execution_count": 15,
     "metadata": {},
     "output_type": "execute_result"
    }
   ],
   "source": [
    "# unsqueeze用法\n",
    "x2 = torch.linspace(-math.pi, math.pi, 5)\n",
    "print(x2.shape)\n",
    "x2"
   ]
  },
  {
   "cell_type": "code",
   "execution_count": 16,
   "metadata": {},
   "outputs": [
    {
     "name": "stdout",
     "output_type": "stream",
     "text": [
      "torch.Size([1, 5])\n"
     ]
    },
    {
     "data": {
      "text/plain": [
       "tensor([[-3.1416, -1.5708,  0.0000,  1.5708,  3.1416]])"
      ]
     },
     "execution_count": 16,
     "metadata": {},
     "output_type": "execute_result"
    }
   ],
   "source": [
    "print(x2.unsqueeze(0).shape)\n",
    "x2.unsqueeze(0)#向0索引维度前插入了一个维度的1X"
   ]
  },
  {
   "cell_type": "code",
   "execution_count": 17,
   "metadata": {},
   "outputs": [
    {
     "name": "stdout",
     "output_type": "stream",
     "text": [
      "torch.Size([5, 1])\n"
     ]
    },
    {
     "data": {
      "text/plain": [
       "tensor([[-3.1416],\n",
       "        [-1.5708],\n",
       "        [ 0.0000],\n",
       "        [ 1.5708],\n",
       "        [ 3.1416]])"
      ]
     },
     "execution_count": 17,
     "metadata": {},
     "output_type": "execute_result"
    }
   ],
   "source": [
    "print(x2.unsqueeze(-1).shape)\n",
    "x2.unsqueeze(-1)#向后插入了一个维度的1X，\n",
    "#这个是因为采用负数索引和一般python类似，是从后往前记录位置"
   ]
  },
  {
   "cell_type": "code",
   "execution_count": 18,
   "metadata": {},
   "outputs": [
    {
     "name": "stdout",
     "output_type": "stream",
     "text": [
      "torch.Size([5, 1])\n"
     ]
    },
    {
     "data": {
      "text/plain": [
       "tensor([[-3.1416],\n",
       "        [-1.5708],\n",
       "        [ 0.0000],\n",
       "        [ 1.5708],\n",
       "        [ 3.1416]])"
      ]
     },
     "execution_count": 18,
     "metadata": {},
     "output_type": "execute_result"
    }
   ],
   "source": [
    "print(x2.unsqueeze(1).shape)\n",
    "x2.unsqueeze(1)#在只有一个维度时候-1和1等效，但是无论任何原始维数，-1都代表插入在末尾"
   ]
  },
  {
   "cell_type": "code",
   "execution_count": 19,
   "metadata": {},
   "outputs": [
    {
     "data": {
      "text/plain": [
       "tensor([[ -3.1416,   9.8696, -31.0063],\n",
       "        [ -1.5708,   2.4674,  -3.8758],\n",
       "        [  0.0000,   0.0000,   0.0000],\n",
       "        [  1.5708,   2.4674,   3.8758],\n",
       "        [  3.1416,   9.8696,  31.0063]])"
      ]
     },
     "execution_count": 19,
     "metadata": {},
     "output_type": "execute_result"
    }
   ],
   "source": [
    "p2 = torch.tensor([1, 2, 3])\n",
    "x2.unsqueeze(-1).pow(p2)"
   ]
  },
  {
   "cell_type": "code",
   "execution_count": 20,
   "metadata": {},
   "outputs": [
    {
     "ename": "RuntimeError",
     "evalue": "The size of tensor a (5) must match the size of tensor b (3) at non-singleton dimension 0",
     "output_type": "error",
     "traceback": [
      "\u001b[1;31m---------------------------------------------------------------------------\u001b[0m",
      "\u001b[1;31mRuntimeError\u001b[0m                              Traceback (most recent call last)",
      "\u001b[1;32m<ipython-input-20-359697cf7cda>\u001b[0m in \u001b[0;36m<module>\u001b[1;34m\u001b[0m\n\u001b[1;32m----> 1\u001b[1;33m \u001b[0mx2\u001b[0m\u001b[1;33m.\u001b[0m\u001b[0mpow\u001b[0m\u001b[1;33m(\u001b[0m\u001b[0mp2\u001b[0m\u001b[1;33m)\u001b[0m\u001b[1;33m\u001b[0m\u001b[1;33m\u001b[0m\u001b[0m\n\u001b[0m",
      "\u001b[1;31mRuntimeError\u001b[0m: The size of tensor a (5) must match the size of tensor b (3) at non-singleton dimension 0"
     ]
    }
   ],
   "source": [
    "x2.pow(p2)#这样不可以，因为两者都是向量的时候，不会触发广播，而是被认为向量内积\n",
    "#必须先有一方是矩阵才可以实践广播"
   ]
  },
  {
   "cell_type": "code",
   "execution_count": 10,
   "metadata": {},
   "outputs": [
    {
     "name": "stdout",
     "output_type": "stream",
     "text": [
      "迭代第  99轮, 损失函数为975.284\n",
      "迭代第 199轮, 损失函数为656.037\n",
      "迭代第 299轮, 损失函数为442.554\n",
      "迭代第 399轮, 损失函数为299.704\n",
      "迭代第 499轮, 损失函数为204.052\n",
      "迭代第 599轮, 损失函数为139.958\n",
      "迭代第 699轮, 损失函数为 96.980\n",
      "迭代第 799轮, 损失函数为 68.137\n",
      "迭代第 899轮, 损失函数为 48.766\n",
      "迭代第 999轮, 损失函数为 35.746\n",
      "迭代第1099轮, 损失函数为 26.986\n",
      "迭代第1199轮, 损失函数为 21.088\n",
      "迭代第1299轮, 损失函数为 17.113\n",
      "迭代第1399轮, 损失函数为 14.431\n",
      "迭代第1499轮, 损失函数为 12.620\n",
      "迭代第1599轮, 损失函数为 11.396\n",
      "迭代第1699轮, 损失函数为 10.568\n",
      "迭代第1799轮, 损失函数为 10.007\n",
      "迭代第1899轮, 损失函数为  9.627\n",
      "迭代第1999轮, 损失函数为  9.369\n",
      "Result: y =       -0.016600055620074272 +       0.8397484421730042 x +       0.002863785717636347 x^2 +      -0.09091337025165558 x^3\n"
     ]
    }
   ],
   "source": [
    "# Create Tensors to hold input and outputs.\n",
    "x = torch.linspace(-math.pi, math.pi, 2000)\n",
    "y = torch.sin(x)\n",
    "\n",
    "# For this example, the output y is a linear function of (x, x^2, x^3), so\n",
    "# we can consider it as a linear layer neural network. Let's prepare the\n",
    "# tensor (x, x^2, x^3).\n",
    "\n",
    "# 这里是在准备多项式的元素(x, x^2, x^3)，有了多项式元素后面就只需要求线性的系数\n",
    "p = torch.tensor([1, 2, 3])\n",
    "xx = x.unsqueeze(-1).pow(p)# 在维度上插入一个1X，这里是插在最后拓展维度\n",
    "\n",
    "# In the above code, x.unsqueeze(-1) has shape (2000, 1), and p has shape\n",
    "# (3,), for this case, broadcasting semantics will apply to obtain a tensor\n",
    "# of shape (2000, 3) \n",
    "# 拓展后的xx是2000X1和3的广播操作，得到2000X3\n",
    "\n",
    "# Use the nn package to define our model as a sequence of layers. nn.Sequential\n",
    "# is a Module which contains other Modules, and applies them in sequence to\n",
    "# produce its output. The Linear Module computes output from input using a\n",
    "# linear function, and holds internal Tensors for its weight and bias.\n",
    "# The Flatten layer flatens the output of the linear layer to a 1D tensor,\n",
    "# to match the shape of `y`.\n",
    "# 调用了nn的功能来操作，先进一个3->1的线性层（没激活函数）然后再拉平\n",
    "model = torch.nn.Sequential(\n",
    "    torch.nn.Linear(3, 1),\n",
    "    torch.nn.Flatten(0, 1)#默认从1坐标维度开始拉平，因为0坐标是batch维度，\n",
    "    #但是这里没有batch直接来，所以从0开始拉平\n",
    ")\n",
    "\n",
    "# The nn package also contains definitions of popular loss functions; in this\n",
    "# case we will use Mean Squared Error (MSE) as our loss function.\n",
    "# 直接使用MSE损失来进行求损失\n",
    "loss_fn = torch.nn.MSELoss(reduction='sum')#reduction选择sum其实就是SE，没有求mean\n",
    "\n",
    "learning_rate = 1e-6\n",
    "for t in range(2000):\n",
    "\n",
    "    # Forward pass: compute predicted y by passing x to the model. Module objects\n",
    "    # override the __call__ operator so you can call them like functions. When\n",
    "    # doing so you pass a Tensor of input data to the Module and it produces\n",
    "    # a Tensor of output data.\n",
    "    # Pytorch的nn重载了函数调用操作，变成了前向传播，所以可以直接用括号来前向\n",
    "    # 等价于 model.forward(xx)\n",
    "    y_pred = model(xx) #直接从model得到前向输出\n",
    "\n",
    "    # Compute and print loss. We pass Tensors containing the predicted and true\n",
    "    # values of y, and the loss function returns a Tensor containing the\n",
    "    # loss.\n",
    "    # 用nn的函数计算前向传播（所以这里要用item取标量）\n",
    "    loss = loss_fn(y_pred, y)\n",
    "    if t % 100 == 99:\n",
    "        print(f'迭代第{t:4d}轮, 损失函数为{loss.item():7.3f}')\n",
    "\n",
    "    # Zero the gradients before running the backward pass.\n",
    "    # 每次反向传播前先清除旧有梯度（替代原本手动的设置None）\n",
    "    model.zero_grad()\n",
    "\n",
    "    # Backward pass: compute gradient of the loss with respect to all the learnable\n",
    "    # parameters of the model. Internally, the parameters of each Module are stored\n",
    "    # in Tensors with requires_grad=True, so this call will compute gradients for\n",
    "    # all learnable parameters in the model.\n",
    "    # 一键式反向传播\n",
    "    loss.backward()\n",
    "\n",
    "    # Update the weights using gradient descent. Each parameter is a Tensor, so\n",
    "    # we can access its gradients like we did before.\n",
    "    # 此次暂时还是采用手动更新梯度下降，但是变成了对于参数的遍历更新\n",
    "    with torch.no_grad():\n",
    "        for param in model.parameters():\n",
    "            param -= learning_rate * param.grad\n",
    "\n",
    "# You can access the first layer of `model` like accessing the first item of a list\n",
    "# 用这种方式可以取Sequence的层\n",
    "linear_layer = model[0]\n",
    "\n",
    "# For linear layer, its parameters are stored as `weight` and `bias`.\n",
    "# 那就有权重和偏置项bias\n",
    "print(f'Result: y = \\\n",
    "      {linear_layer.bias.item()} + \\\n",
    "      {linear_layer.weight[:, 0].item()} x + \\\n",
    "      {linear_layer.weight[:, 1].item()} x^2 +\\\n",
    "      {linear_layer.weight[:, 2].item()} x^3')"
   ]
  },
  {
   "cell_type": "markdown",
   "metadata": {},
   "source": [
    "## 更进一步 优化器optim\n",
    "\n",
    "先前都是手动在`torch.no_grad()`内部手动进行的梯度下降，但这种对于复杂的优化器写起来负担有点大。\n",
    "\n",
    "所以可以利用优化器包来操作，提供了常见优化器的实现\n",
    "\n",
    "这里我们使用RMSprop算法来优化"
   ]
  },
  {
   "cell_type": "code",
   "execution_count": 22,
   "metadata": {},
   "outputs": [
    {
     "name": "stdout",
     "output_type": "stream",
     "text": [
      "迭代第  99轮, 损失函数为14396.074\n",
      "迭代第 199轮, 损失函数为5160.179\n",
      "迭代第 299轮, 损失函数为1659.509\n",
      "迭代第 399轮, 损失函数为668.737\n",
      "迭代第 499轮, 损失函数为504.679\n",
      "迭代第 599轮, 损失函数为452.228\n",
      "迭代第 699轮, 损失函数为390.950\n",
      "迭代第 799轮, 损失函数为318.548\n",
      "迭代第 899轮, 损失函数为242.547\n",
      "迭代第 999轮, 损失函数为172.285\n",
      "迭代第1099轮, 损失函数为113.885\n",
      "迭代第1199轮, 损失函数为 69.550\n",
      "迭代第1299轮, 损失函数为 39.060\n",
      "迭代第1399轮, 损失函数为 20.798\n",
      "迭代第1499轮, 损失函数为 12.082\n",
      "迭代第1599轮, 损失函数为  9.299\n",
      "迭代第1699轮, 损失函数为  8.854\n",
      "迭代第1799轮, 损失函数为  8.853\n",
      "迭代第1899轮, 损失函数为  8.881\n",
      "迭代第1999轮, 损失函数为  8.938\n",
      "Result: y = -0.0004799135494977236 +    0.8572459816932678 x +    -0.00047998171066865325 x^2 +    -0.09276171028614044 x^3\n"
     ]
    }
   ],
   "source": [
    "# Create Tensors to hold input and outputs.\n",
    "x = torch.linspace(-math.pi, math.pi, 2000)\n",
    "y = torch.sin(x)\n",
    "\n",
    "# Prepare the input tensor (x, x^2, x^3).\n",
    "p = torch.tensor([1, 2, 3])\n",
    "xx = x.unsqueeze(-1).pow(p)\n",
    "\n",
    "# Use the nn package to define our model and loss function.\n",
    "model = torch.nn.Sequential(\n",
    "    torch.nn.Linear(3, 1),\n",
    "    torch.nn.Flatten(0, 1)\n",
    ")\n",
    "loss_fn = torch.nn.MSELoss(reduction='sum')\n",
    "\n",
    "# Use the optim package to define an Optimizer that will update the weights of\n",
    "# the model for us. Here we will use RMSprop; the optim package contains many other\n",
    "# optimization algorithms. The first argument to the RMSprop constructor tells the\n",
    "# optimizer which Tensors it should update.\n",
    "\n",
    "learning_rate = 1e-3#学习率也换了一个\n",
    "optimizer = torch.optim.RMSprop(model.parameters(), lr=learning_rate)#设置优化器\n",
    "\n",
    "for t in range(2000):\n",
    "    # Forward pass: compute predicted y by passing x to the model.\n",
    "    y_pred = model(xx)\n",
    "\n",
    "    # Compute and print loss.\n",
    "    loss = loss_fn(y_pred, y)\n",
    "    if t % 100 == 99:\n",
    "        print(f'迭代第{t:4d}轮, 损失函数为{loss.item():7.3f}')\n",
    "\n",
    "    # Before the backward pass, use the optimizer object to zero all of the\n",
    "    # gradients for the variables it will update (which are the learnable\n",
    "    # weights of the model). This is because by default, gradients are\n",
    "    # accumulated in buffers( i.e, not overwritten) whenever .backward()\n",
    "    # is called. Checkout docs of torch.autograd.backward for more details.\n",
    "    optimizer.zero_grad()#清除梯度还是要有的，否则梯度会累积！\n",
    "\n",
    "    # Backward pass: compute gradient of the loss with respect to model\n",
    "    # parameters\n",
    "    loss.backward()\n",
    "\n",
    "    # Calling the step function on an Optimizer makes an update to its\n",
    "    # parameters\n",
    "    optimizer.step()#之前的手动更新换成一个step就可以了。\n",
    "\n",
    "\n",
    "linear_layer = model[0]\n",
    "print(f'Result: y = {linear_layer.bias.item()} +\\\n",
    "    {linear_layer.weight[:, 0].item()} x +\\\n",
    "    {linear_layer.weight[:, 1].item()} x^2 +\\\n",
    "    {linear_layer.weight[:, 2].item()} x^3')"
   ]
  },
  {
   "cell_type": "markdown",
   "metadata": {},
   "source": [
    "## 再进一步-自定义的nn子类模块\n",
    "\n",
    "有时候我们需要更复杂的模块，不仅是简单的已有经典序列堆砌。我们只需要写一个前向传播即可。"
   ]
  },
  {
   "cell_type": "code",
   "execution_count": 23,
   "metadata": {},
   "outputs": [
    {
     "name": "stdout",
     "output_type": "stream",
     "text": [
      "迭代第  99轮, 损失函数为 23.434\n",
      "迭代第 199轮, 损失函数为 19.059\n",
      "迭代第 299轮, 损失函数为 15.998\n",
      "迭代第 399轮, 损失函数为 13.854\n",
      "迭代第 499轮, 损失函数为 12.352\n",
      "迭代第 599轮, 损失函数为 11.300\n",
      "迭代第 699轮, 损失函数为 10.561\n",
      "迭代第 799轮, 损失函数为 10.043\n",
      "迭代第 899轮, 损失函数为  9.679\n",
      "迭代第 999轮, 损失函数为  9.423\n",
      "迭代第1099轮, 损失函数为  9.244\n",
      "迭代第1199轮, 损失函数为  9.117\n",
      "迭代第1299轮, 损失函数为  9.028\n",
      "迭代第1399轮, 损失函数为  8.966\n",
      "迭代第1499轮, 损失函数为  8.922\n",
      "迭代第1599轮, 损失函数为  8.891\n",
      "迭代第1699轮, 损失函数为  8.869\n",
      "迭代第1799轮, 损失函数为  8.854\n",
      "迭代第1899轮, 损失函数为  8.843\n",
      "迭代第1999轮, 损失函数为  8.835\n",
      "Result: y = 0.0044181933626532555 + 0.8558475375175476 x + -0.0007622094126418233 x^2 + -0.09320332109928131 x^3\n"
     ]
    }
   ],
   "source": [
    "import torch\n",
    "import math\n",
    "\n",
    "\n",
    "class Polynomial3(torch.nn.Module):\n",
    "    def __init__(self):\n",
    "        \"\"\"\n",
    "        In the constructor we instantiate four parameters and assign them as\n",
    "        member parameters.\n",
    "        我们需要初始化参数并赋值\n",
    "        \"\"\"\n",
    "        super().__init__()\n",
    "        self.a = torch.nn.Parameter(torch.randn(()))\n",
    "        self.b = torch.nn.Parameter(torch.randn(()))\n",
    "        self.c = torch.nn.Parameter(torch.randn(()))\n",
    "        self.d = torch.nn.Parameter(torch.randn(()))\n",
    "\n",
    "    def forward(self, x):\n",
    "        \"\"\"\n",
    "        In the forward function we accept a Tensor of input data and we must return\n",
    "        a Tensor of output data. We can use Modules defined in the constructor as\n",
    "        well as arbitrary operators on Tensors.\n",
    "        前向传播这里需要接受一个参数输入，然后返回一个输出。\n",
    "        我们可以用在模块内构造函数初始化时候定义的内容和任意的张量操作符\n",
    "        \"\"\"\n",
    "        return self.a + self.b * x + self.c * x ** 2 + self.d * x ** 3\n",
    "\n",
    "    def string(self):\n",
    "        \"\"\"\n",
    "        Just like any class in Python, you can also define custom method on PyTorch modules\n",
    "        和一般python模块一样的，你也可以定义一些一般的方法比如str\n",
    "        \"\"\"\n",
    "        return f'y = {self.a.item()} + {self.b.item()} x + {self.c.item()} x^2 + {self.d.item()} x^3'\n",
    "\n",
    "\n",
    "# Create Tensors to hold input and outputs.\n",
    "x = torch.linspace(-math.pi, math.pi, 2000)\n",
    "y = torch.sin(x)\n",
    "\n",
    "# Construct our model by instantiating the class defined above\n",
    "model = Polynomial3()#创建模块的一个实例\n",
    "\n",
    "# Construct our loss function and an Optimizer. The call to model.parameters()\n",
    "# in the SGD constructor will contain the learnable parameters of the nn.Linear\n",
    "# module which is members of the model.\n",
    "\n",
    "criterion = torch.nn.MSELoss(reduction='sum')\n",
    "#损失函数如常\n",
    "optimizer = torch.optim.SGD(model.parameters(), lr=1e-6)\n",
    "#同样构架一个优化器，这里用的SGD\n",
    "\n",
    "for t in range(2000):\n",
    "    # Forward pass: Compute predicted y by passing x to the model\n",
    "    y_pred = model(x)#前向\n",
    "\n",
    "    # Compute and print loss\n",
    "    loss = criterion(y_pred, y)\n",
    "    if t % 100 == 99:\n",
    "        print(f'迭代第{t:4d}轮, 损失函数为{loss.item():7.3f}')\n",
    "\n",
    "    # Zero gradients, perform a backward pass, and update the weights.\n",
    "    optimizer.zero_grad()\n",
    "    loss.backward()\n",
    "    optimizer.step()#和之前操作sequence一样的\n",
    "\n",
    "print(f'Result: {model.string()}')#这是因为有个str方法"
   ]
  },
  {
   "cell_type": "markdown",
   "metadata": {},
   "source": [
    "## pytorch动态图的终极特色\n",
    "\n",
    "为了举一个动态图和权重共享的例子，我们实现了一个很奇怪的模型：3-5阶的多项式公用同一个系数，每次而且3-5阶到底有多少阶每次是随机选取的。\n",
    "\n",
    "我们可以在写前向传播的时候使用python的循环工作流，二权重共享只需要反复在前向使用同一个参数即可。\n",
    "\n",
    "注：这里的方法会慢不少，而且结果有随机性其实很奇特，最后训练的e很小不同随机情况下其实差不多结果。\n",
    "不过至少这个操作是只有动态图才可以的。\n"
   ]
  },
  {
   "cell_type": "code",
   "execution_count": 24,
   "metadata": {},
   "outputs": [
    {
     "name": "stdout",
     "output_type": "stream",
     "text": [
      "1999 148.21243286132812\n",
      "3999 75.3135757446289\n",
      "5999 39.994781494140625\n",
      "7999 85.57655334472656\n",
      "9999 16.68682861328125\n",
      "11999 12.465984344482422\n",
      "13999 10.491589546203613\n",
      "15999 9.430222511291504\n",
      "17999 9.277722358703613\n",
      "19999 9.064362525939941\n",
      "21999 8.600805282592773\n",
      "23999 8.901012420654297\n",
      "25999 8.87391471862793\n",
      "27999 8.891538619995117\n",
      "29999 8.854854583740234\n",
      "Result: y = 0.0031547953840345144 + 0.8570186495780945 x + -0.0010799139272421598 x^2 + -0.09361018985509872 x^3 + 9.438759298063815e-05 x^4 ? + 9.438759298063815e-05 x^5 ?\n"
     ]
    }
   ],
   "source": [
    "import random\n",
    "import torch\n",
    "import math\n",
    "\n",
    "\n",
    "class DynamicNet(torch.nn.Module):\n",
    "    def __init__(self):\n",
    "        \"\"\"\n",
    "        In the constructor we instantiate five parameters and assign them as members.\n",
    "        \"\"\"\n",
    "        super().__init__()\n",
    "        self.a = torch.nn.Parameter(torch.randn(()))\n",
    "        self.b = torch.nn.Parameter(torch.randn(()))\n",
    "        self.c = torch.nn.Parameter(torch.randn(()))\n",
    "        self.d = torch.nn.Parameter(torch.randn(()))\n",
    "        self.e = torch.nn.Parameter(torch.randn(()))\n",
    "\n",
    "    def forward(self, x):\n",
    "        \"\"\"\n",
    "        For the forward pass of the model, we randomly choose either 4, 5\n",
    "        and reuse the e parameter to compute the contribution of these orders.\n",
    "\n",
    "        Since each forward pass builds a dynamic computation graph, we can use normal\n",
    "        Python control-flow operators like loops or conditional statements when\n",
    "        defining the forward pass of the model.\n",
    "\n",
    "        Here we also see that it is perfectly safe to reuse the same parameter many\n",
    "        times when defining a computational graph.\n",
    "        \"\"\"\n",
    "        y = self.a + self.b * x + self.c * x ** 2 + self.d * x ** 3\n",
    "        for exp in range(4, random.randint(4, 6)):\n",
    "            y = y + self.e * x ** exp\n",
    "        return y\n",
    "\n",
    "    def string(self):\n",
    "        \"\"\"\n",
    "        Just like any class in Python, you can also define custom method on PyTorch modules\n",
    "        \"\"\"\n",
    "        return f'y = {self.a.item()} + {self.b.item()} x + {self.c.item()} x^2 + {self.d.item()} x^3 + {self.e.item()} x^4 ? + {self.e.item()} x^5 ?'\n",
    "\n",
    "\n",
    "# Create Tensors to hold input and outputs.\n",
    "x = torch.linspace(-math.pi, math.pi, 2000)\n",
    "y = torch.sin(x)\n",
    "\n",
    "# Construct our model by instantiating the class defined above\n",
    "model = DynamicNet()\n",
    "\n",
    "# Construct our loss function and an Optimizer. Training this strange model with\n",
    "# vanilla stochastic gradient descent is tough, so we use momentum\n",
    "criterion = torch.nn.MSELoss(reduction='sum')\n",
    "optimizer = torch.optim.SGD(model.parameters(), lr=1e-8, momentum=0.9)\n",
    "for t in range(30000):\n",
    "    # Forward pass: Compute predicted y by passing x to the model\n",
    "    y_pred = model(x)\n",
    "\n",
    "    # Compute and print loss\n",
    "    loss = criterion(y_pred, y)\n",
    "    if t % 2000 == 1999:\n",
    "        print(t, loss.item())\n",
    "\n",
    "    # Zero gradients, perform a backward pass, and update the weights.\n",
    "    optimizer.zero_grad()\n",
    "    loss.backward()\n",
    "    optimizer.step()\n",
    "\n",
    "print(f'Result: {model.string()}')"
   ]
  },
  {
   "cell_type": "code",
   "execution_count": 29,
   "metadata": {},
   "outputs": [
    {
     "data": {
      "text/plain": [
       "<matplotlib.legend.Legend at 0x2132aea1e80>"
      ]
     },
     "execution_count": 29,
     "metadata": {},
     "output_type": "execute_result"
    },
    {
     "data": {
      "image/png": "[encoded data removed]",
      "text/plain": [
       "<Figure size 432x288 with 1 Axes>"
      ]
     },
     "metadata": {
      "needs_background": "light"
     },
     "output_type": "display_data"
    }
   ],
   "source": [
    "import matplotlib.pyplot as plt\n",
    "y0 = model.a +  model.b * x +  model.c * x ** 2 +  model.d * x ** 3\n",
    "y1 = y0 +  model.e*x ** 4\n",
    "y2 = y1 + model.e*x ** 5\n",
    "plt.plot(x.cpu().numpy(),y.cpu().numpy(),label='true',)#先转换到cpu，然后再转换到numpy才可以做一般的可视化\n",
    "plt.plot(x.cpu().numpy(),y0.detach().cpu().numpy(),label='y0')\n",
    "plt.plot(x.cpu().numpy(),y1.detach().cpu().numpy(),label='y1')\n",
    "plt.plot(x.cpu().numpy(),y2.detach().cpu().numpy(),label='y2')\n",
    "#由于这里y_pred涉及反向传播，所以是要先detach()接触和计算图的联系\n",
    "plt.legend()"
   ]
  },
  {
   "cell_type": "code",
   "execution_count": null,
   "metadata": {},
   "outputs": [],
   "source": []
  }
 ],
 "metadata": {
  "kernelspec": {
   "display_name": "Python 3",
   "language": "python",
   "name": "python3"
  },
  "language_info": {
   "codemirror_mode": {
    "name": "ipython",
    "version": 3
   },
   "file_extension": ".py",
   "mimetype": "text/x-python",
   "name": "python",
   "nbconvert_exporter": "python",
   "pygments_lexer": "ipython3",
   "version": "3.8.5"
  }
 },
 "nbformat": 4,
 "nbformat_minor": 4
}
